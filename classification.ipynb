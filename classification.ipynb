{
 "cells": [
  {
   "cell_type": "code",
   "execution_count": 1,
   "id": "d6b5586e",
   "metadata": {},
   "outputs": [],
   "source": [
    "import sklearn\n",
    "import numpy as np\n",
    "import pandas as pd\n",
    "from sklearn.preprocessing import MinMaxScaler\n",
    "from sklearn import svm,datasets\n",
    "from sklearn.linear_model import RidgeClassifier\n",
    "from sklearn.metrics import mean_squared_error\n",
    "from sklearn.metrics import f1_score\n",
    "from sklearn.model_selection import train_test_split\n",
    "import matplotlib.pyplot as plt"
   ]
  },
  {
   "cell_type": "code",
   "execution_count": 2,
   "id": "92784e2c",
   "metadata": {},
   "outputs": [],
   "source": [
    "df = pd.read_csv(\"result_002.csv\")"
   ]
  },
  {
   "cell_type": "code",
   "execution_count": 3,
   "id": "d1ad6a92",
   "metadata": {},
   "outputs": [],
   "source": [
    "df=df.drop(columns=['30','31','32','33','34','35','36'])"
   ]
  },
  {
   "cell_type": "code",
   "execution_count": 4,
   "id": "c943c22c",
   "metadata": {},
   "outputs": [],
   "source": [
    "scaler=MinMaxScaler()\n",
    "for i in range(0,30):\n",
    "    scaler.fit(df[['{}'.format(i)]])\n",
    "    df[['{}'.format(i)]]=scaler.transform(df[['{}'.format(i)]])"
   ]
  },
  {
   "cell_type": "code",
   "execution_count": 5,
   "id": "020a3906",
   "metadata": {},
   "outputs": [],
   "source": [
    "data=df.drop(columns=['rate','p','n'])"
   ]
  },
  {
   "cell_type": "code",
   "execution_count": 6,
   "id": "2ce51cf4",
   "metadata": {},
   "outputs": [],
   "source": [
    "target_p=df[['p']]\n",
    "target_n=df[['n']]\n",
    "target_rate=df[['rate']]"
   ]
  },
  {
   "cell_type": "code",
   "execution_count": 13,
   "id": "ea91fef8",
   "metadata": {},
   "outputs": [
    {
     "name": "stdout",
     "output_type": "stream",
     "text": [
      "[[0 0 0 ... 0 0 0]\n",
      " [0 0 0 ... 0 0 0]\n",
      " [0 0 0 ... 0 0 0]] p, n ,rate \n",
      "\n",
      " [0.7402952344077904, 0.7414976052397728, 0.504510069346545] p, n ,rate\n"
     ]
    }
   ],
   "source": [
    "tar=[]\n",
    "all_f1score=[]\n",
    "for i in [target_p,target_n,target_rate]:\n",
    "    x_train, x_test, y_train, y_test = train_test_split(data, i, test_size=0.2,shuffle=False , random_state=42)\n",
    "    #model=svm.SVC(kernel='linear')\n",
    "    model=RidgeClassifier()\n",
    "    model.fit(x_train,np.array(y_train).ravel())\n",
    "    pred=model.predict(x_test)\n",
    "    tar.append(pred)\n",
    "    all_pred=np.stack(tuple(tar))\n",
    "    \n",
    "    fscore=f1_score(y_test, pred, average='weighted')\n",
    "    all_f1score.append(fscore)\n",
    "print(all_pred, \"p, n ,rate \\n\\n\",all_f1score,\"p, n ,rate\")"
   ]
  }
 ],
 "metadata": {
  "kernelspec": {
   "display_name": "conda_python3",
   "language": "python",
   "name": "conda_python3"
  },
  "language_info": {
   "codemirror_mode": {
    "name": "ipython",
    "version": 3
   },
   "file_extension": ".py",
   "mimetype": "text/x-python",
   "name": "python",
   "nbconvert_exporter": "python",
   "pygments_lexer": "ipython3",
   "version": "3.10.8"
  }
 },
 "nbformat": 4,
 "nbformat_minor": 5
}
